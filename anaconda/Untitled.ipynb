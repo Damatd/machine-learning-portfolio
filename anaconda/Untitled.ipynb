{
 "cells": [
  {
   "cell_type": "code",
   "execution_count": 1,
   "id": "1d9c80e5-8d8b-4117-bcca-0564fff40df9",
   "metadata": {},
   "outputs": [
    {
     "name": "stdout",
     "output_type": "stream",
     "text": [
      "✅ Decision tree exported to 'music-recommender.dot'\n"
     ]
    }
   ],
   "source": [
    "import pandas as pd\n",
    "from sklearn.tree import DecisionTreeClassifier\n",
    "from sklearn import tree\n",
    "\n",
    "# --- Load the dataset ---\n",
    "music_data = pd.read_csv('music.csv')\n",
    "X = music_data.drop(columns=['genre'])\n",
    "y = music_data['genre']\n",
    "\n",
    "# --- Train the model ---\n",
    "model = DecisionTreeClassifier()\n",
    "model.fit(X, y)\n",
    "\n",
    "# --- Export the Decision Tree to a DOT file ---\n",
    "tree.export_graphviz(\n",
    "    model,\n",
    "    out_file='music-recommender.dot',\n",
    "    feature_names=['age', 'gender'],\n",
    "    class_names=sorted(y.unique()),\n",
    "    label='all',\n",
    "    rounded=True,\n",
    "    filled=True\n",
    ")\n",
    "\n",
    "print(\"✅ Decision tree exported to 'music-recommender.dot'\")\n",
    "\n",
    "# --- Optional: Convert the .dot file to a PNG image (needs Graphviz installed) ---\n",
    "# You can uncomment and run this part if you have Graphviz installed.\n",
    "\n",
    "# import graphviz\n",
    "# with open(\"music-recommender.dot\") as f:\n",
    "#     dot_graph = f.read()\n",
    "# display(graphviz.Source(dot_graph))\n"
   ]
  },
  {
   "cell_type": "code",
   "execution_count": null,
   "id": "9d9a7669-0695-457e-a2e9-4ef056444b51",
   "metadata": {},
   "outputs": [],
   "source": []
  }
 ],
 "metadata": {
  "kernelspec": {
   "display_name": "Python [conda env:base] *",
   "language": "python",
   "name": "conda-base-py"
  },
  "language_info": {
   "codemirror_mode": {
    "name": "ipython",
    "version": 3
   },
   "file_extension": ".py",
   "mimetype": "text/x-python",
   "name": "python",
   "nbconvert_exporter": "python",
   "pygments_lexer": "ipython3",
   "version": "3.13.5"
  }
 },
 "nbformat": 4,
 "nbformat_minor": 5
}
